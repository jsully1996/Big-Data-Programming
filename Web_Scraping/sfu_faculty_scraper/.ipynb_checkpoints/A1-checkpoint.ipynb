{
 "cells": [
  {
   "cell_type": "markdown",
   "metadata": {},
   "source": [
    "# Assignment 1: Web Scraping"
   ]
  },
  {
   "cell_type": "markdown",
   "metadata": {},
   "source": [
    "## Objective"
   ]
  },
  {
   "cell_type": "markdown",
   "metadata": {},
   "source": [
    "Data scientists often need to crawl data from websites and turn the crawled data (HTML pages) to structured data (tables). Thus, web scraping is an essential skill that every data scientist should master. In this assignment, you will learn the followings:\n",
    "\n",
    "\n",
    "* How to use [requests](http://www.python-requests.org/en/master/) to download HTML pages from a website?\n",
    "* How to select content on a webpage with [lxml](http://lxml.de/)? \n",
    "\n",
    "You can either use Spark DataFrame or [pandas.DataFrame](http://pandas.pydata.org/pandas-docs/stable/generated/pandas.DataFrame.html) to do the assignment. In comparison, pandas.DataFrame has richer APIs, but is not good at distributed computing."
   ]
  },
  {
   "cell_type": "markdown",
   "metadata": {},
   "source": [
    "## Preliminary"
   ]
  },
  {
   "cell_type": "markdown",
   "metadata": {},
   "source": [
    "If this is your first time to write a web scraper, you need to learn some basic knowledge of HTML, DOM, and XPath. I found that this is a good resource: [https://data-lessons.github.io](https://data-lessons.github.io/library-webscraping-DEPRECATED/). Please take a look at\n",
    "\n",
    "* [Selecting content on a web page with XPath\n",
    "](https://data-lessons.github.io/library-webscraping-DEPRECATED/xpath/)\n",
    "* [Web scraping using Python: requests and lxml](https://data-lessons.github.io/library-webscraping-DEPRECATED/04-lxml/). \n",
    "\n",
    "Please let me know if you find a better resource. I'll share it with the other students."
   ]
  },
  {
   "cell_type": "markdown",
   "metadata": {},
   "source": [
    "## Overview"
   ]
  },
  {
   "cell_type": "markdown",
   "metadata": {},
   "source": [
    "Imagine you are a data scientist working at SFU. One day, you want to analyze CS faculty data and answer two interesting questions:\n",
    "\n",
    "1. Who are the CS faculty members?\n",
    "2. What are their research interests?\n",
    "\n",
    "To do so, the first thing is to figure out what data to collect."
   ]
  },
  {
   "cell_type": "markdown",
   "metadata": {},
   "source": [
    "## Task 1: SFU CS Faculty Members"
   ]
  },
  {
   "cell_type": "markdown",
   "metadata": {},
   "source": [
    "You find that there is a web page in the CS school website, which lists all the faculty members as well as their basic information. \n",
    "\n",
    "In Task 1, your job is to write a web scraper to extract the faculty information from this page: [https://www.sfu.ca/computing/people/faculty.html](https://www.sfu.ca/computing/people/faculty.html).\n",
    "\n",
    "\n"
   ]
  },
  {
   "cell_type": "markdown",
   "metadata": {},
   "source": [
    "### (a) Crawling Web Page"
   ]
  },
  {
   "cell_type": "markdown",
   "metadata": {},
   "source": [
    "A web page is essentially a file stored in a remote machine (called web server). You can use [requests](http://www.python-requests.org/en/master/) to open such a file and read data from it. Please complete the following code to download the HTML page and save it as a text file (like [this](./faculty.txt)). "
   ]
  },
  {
   "cell_type": "code",
   "execution_count": 651,
   "metadata": {},
   "outputs": [
    {
     "name": "stdout",
     "output_type": "stream",
     "text": [
      "Status code OK\n",
      "Page encoding : utf-8\n"
     ]
    },
    {
     "data": {
      "text/plain": [
       "125035"
      ]
     },
     "execution_count": 651,
     "metadata": {},
     "output_type": "execute_result"
    }
   ],
   "source": [
    "import requests\n",
    "\n",
    "# 1. Download the webpage\n",
    "url = 'https://www.sfu.ca/computing/people/faculty.html'\n",
    "page = requests.get(url)\n",
    "if str(page.status_code).startswith('2'):\n",
    "    print('Status code OK')\n",
    "    print('Page encoding :',page.encoding)\n",
    "else:\n",
    "    print('Problem fetching page')\n",
    "\n",
    "# 2. Save it as a text file (named faculty.txt)\n",
    "open('faculty.txt', 'w').write(page.text)"
   ]
  },
  {
   "cell_type": "markdown",
   "metadata": {},
   "source": [
    "### (b) Extracting Structured Data"
   ]
  },
  {
   "cell_type": "markdown",
   "metadata": {},
   "source": [
    "An HTML page follows the Document Object Model (DOM). It models an HTML page as a tree structure wherein each node is an object representing a part of the page. The nodes can be searched and extracted programmatically using XPath. Please complete the following code to transform the above HTML page to a CSV file (like [this](./faculty_table.csv)). "
   ]
  },
  {
   "cell_type": "code",
   "execution_count": 662,
   "metadata": {
    "scrolled": true
   },
   "outputs": [],
   "source": [
    "from bs4 import BeautifulSoup\n",
    "import re\n",
    "import csv\n",
    "\n",
    "# 1. Open faculty.txt\n",
    "with open('faculty.txt', \"r\") as f:\n",
    "    pg = f.read()\n",
    "    pg = pg.replace('<p>&nbsp;</p>','')\n",
    "\n",
    "# 2. Parse the HTML page as a tree structure\n",
    "tree = BeautifulSoup(pg, 'html.parser') \n",
    "for x in tree.findAll(lambda tag: tag.name == 'a' and not tag.contents): #removes empty <a> tags\n",
    "    x.decompose() \n",
    "\n",
    "# 3. Extract related content from the tree using XPath\n",
    "faculty_names = []\n",
    "faculty_desig = []\n",
    "faculty_areas = []  \n",
    "faculty_profl = []\n",
    "faculty_hompg = []\n",
    "\n",
    "faculty_info = tree.find_all(lambda x: x.name == 'div' and x.get('class') == ['text']) #get required <div> \n",
    "for f in faculty_info:\n",
    "    strg = f.find_all('h4')[0].text.split(', ')          #split faculty name and rank\n",
    "    faculty_names.append(strg[0])\n",
    "    strg1 = strg[1].split('\\n')\n",
    "    faculty_desig.append(strg1[0])\n",
    "    if 'Area:' in f.find('h4').get_text():               #searching by keyword\n",
    "        tmp=f.find('h4').get_text().split(':')\n",
    "        faculty_areas.append(tmp[-1].strip())            #refine \n",
    "    elif 'Area:' in f.find('p').get_text():\n",
    "        temp = f.find('p').get_text().split(':')[1]\n",
    "        temp = temp.split('\\n')[0].strip()\n",
    "        faculty_areas.append(temp)\n",
    "    \n",
    "    if len(f.find_all('p'))==2 or len(f.find_all('p'))==4:        \n",
    "        para = f.find_all('p')[1]                       #if-else handles exceptional cases\n",
    "    else:\n",
    "        para = f.find_all('p')[0]\n",
    "    links = para.find_all('a')\n",
    "    for link in links:\n",
    "        home =''\n",
    "        if 'Profile' in link.get_text():\n",
    "            profile = link.get('href')                  #get links from profile keyword\n",
    "            if profile.startswith('/'):\n",
    "                profile = (url.split('/')[0]+'//'+url.split('/')[2]) + profile     #join with main url\n",
    "        if 'Home' in link.get_text():\n",
    "            home = link.get('href')                     #get links from home keyword\n",
    "        \n",
    "    faculty_profl.append(profile)\n",
    "    faculty_hompg.append(home)\n",
    "\n",
    "# 4. Save the extracted content as an csv file (named faculty_table.csv)\n",
    "import pandas as pd\n",
    "faculty_df = pd.DataFrame()\n",
    "faculty_df['Faculty Name']  = faculty_names\n",
    "faculty_df['Faculty Rank']  = faculty_desig\n",
    "faculty_df['Faculty Area']  = faculty_areas\n",
    "faculty_df['Faculty Profile']  = faculty_profl\n",
    "faculty_df['Faculty Homepage']  = faculty_hompg\n",
    "\n",
    "faculty_df.to_csv('faculty_table.csv',index=False)\n",
    "    "
   ]
  },
  {
   "cell_type": "code",
   "execution_count": null,
   "metadata": {},
   "outputs": [],
   "source": []
  },
  {
   "cell_type": "markdown",
   "metadata": {},
   "source": [
    "## Task 2: Research Interests"
   ]
  },
  {
   "cell_type": "markdown",
   "metadata": {},
   "source": [
    "Suppose you want to know the research interests of each faculty. However, the above crawled web page does not contain such information. "
   ]
  },
  {
   "cell_type": "markdown",
   "metadata": {},
   "source": [
    "### (a) Crawling Web Page"
   ]
  },
  {
   "cell_type": "markdown",
   "metadata": {},
   "source": [
    "You notice that such information can be found on the profile page of each faculty. For example, you can find the research interests of Dr. Jiannan Wang from [http://www.sfu.ca/computing/people/faculty/jiannanwang.html](http://www.sfu.ca/computing/people/faculty/jiannanwang.html). \n",
    "\n",
    "\n",
    "Please complete the following code to download the profile pages and save them as text files. There are 60 faculties, so you need to download 60 web pages in total. "
   ]
  },
  {
   "cell_type": "code",
   "execution_count": 663,
   "metadata": {},
   "outputs": [],
   "source": [
    "import os\n",
    "import shutil\n",
    "\n",
    "if os.path.exists('./faculty_profiles'):\n",
    "    shutil.rmtree('./faculty_profiles')\n",
    "os.makedirs('./faculty_profiles')\n",
    "# 1. Download the profile pages of 60 faculties\n",
    "for i in faculty_df['Faculty Profile']:\n",
    "    name = i.split('/')[6].split('.')[0]\n",
    "    webpg = requests.get(i)\n",
    "# 2. Save each page as a text file\n",
    "    open('./faculty_profiles/'+name+'.txt', 'wb').write(webpg.text.encode('utf8'))"
   ]
  },
  {
   "cell_type": "markdown",
   "metadata": {},
   "source": [
    "### (b) Extracting Structured Data"
   ]
  },
  {
   "cell_type": "markdown",
   "metadata": {},
   "source": [
    "Please complete the following code to extract the research interests of each faculty, and generate a file like [this](./faculty_more_table.csv). "
   ]
  },
  {
   "cell_type": "code",
   "execution_count": 665,
   "metadata": {},
   "outputs": [],
   "source": [
    "# 1. Open each text file and parse it as a tree structure \n",
    "faculty_research = []\n",
    "for p in faculty_df['Faculty Profile']:\n",
    "    name = p.split('/')[6].split('.')[0]\n",
    "    with open('./faculty_profiles/'+name+'.txt', 'r', encoding='utf8') as something:\n",
    "        pg = something.read()\n",
    "        \n",
    "# 2. Parse the HTML page as a tree structure\n",
    "    tree = BeautifulSoup(pg, 'html.parser') \n",
    "# 3. Extract the research interests from each tree using XPath\n",
    "    researches = tree.find(text = re.compile(\"^Research interests$\", re.I))       #finding by keyword\n",
    "    if researches is not None:\n",
    "        researches = researches.findNext().text.lstrip().title().replace('\\xa0','').split('\\n')\n",
    "    else:\n",
    "        researches = ''\n",
    "    r = list(filter(None, researches))\n",
    "    faculty_research.append(r)    \n",
    "faculty_df['Faculty Research Interests']  = faculty_research\n",
    "\n",
    "# 4. Generate a new CSV file, named faculty_more_table.csv\n",
    "faculty_df.to_csv('faculty_more_table.csv',index=False)"
   ]
  },
  {
   "cell_type": "markdown",
   "metadata": {},
   "source": [
    "## Submission"
   ]
  },
  {
   "cell_type": "markdown",
   "metadata": {},
   "source": [
    "Complete the code in this [notebook](A1.ipynb), and submit it to the CourSys activity `Assignment 1`."
   ]
  }
 ],
 "metadata": {
  "kernelspec": {
   "display_name": "Python 3",
   "language": "python",
   "name": "python3"
  },
  "language_info": {
   "codemirror_mode": {
    "name": "ipython",
    "version": 3
   },
   "file_extension": ".py",
   "mimetype": "text/x-python",
   "name": "python",
   "nbconvert_exporter": "python",
   "pygments_lexer": "ipython3",
   "version": "3.6.3"
  }
 },
 "nbformat": 4,
 "nbformat_minor": 1
}
