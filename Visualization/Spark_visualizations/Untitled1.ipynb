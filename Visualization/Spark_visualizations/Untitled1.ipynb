{
 "cells": [
  {
   "cell_type": "code",
   "execution_count": 25,
   "metadata": {},
   "outputs": [],
   "source": [
    "import numpy as np\n",
    "import os\n",
    "\n",
    "#scriptpath = os.path.dirname(os.path.realpath(__file__))\n",
    "elev_fname = ('elevations_latlon.npy')\n",
    "tiles_fname = ('tiles_latlon.npy')\n",
    "\n",
    "tile_size = 100\n",
    "tile_degrees = 10\n",
    "lat_ranges = np.arange(-90,90,tile_degrees)\n",
    "lon_ranges = np.arange(-180,180,tile_degrees)\n",
    "elevgrid = None"
   ]
  },
  {
   "cell_type": "code",
   "execution_count": null,
   "metadata": {
    "collapsed": true
   },
   "outputs": [],
   "source": []
  }
 ],
 "metadata": {
  "kernelspec": {
   "display_name": "Python 3",
   "language": "python",
   "name": "python3"
  },
  "language_info": {
   "codemirror_mode": {
    "name": "ipython",
    "version": 3
   },
   "file_extension": ".py",
   "mimetype": "text/x-python",
   "name": "python",
   "nbconvert_exporter": "python",
   "pygments_lexer": "ipython3",
   "version": "3.6.3"
  }
 },
 "nbformat": 4,
 "nbformat_minor": 2
}
